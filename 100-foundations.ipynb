{
 "cells": [
  {
   "cell_type": "code",
   "execution_count": 2,
   "metadata": {
    "slideshow": {
     "slide_type": "skip"
    }
   },
   "outputs": [
    {
     "name": "stdout",
     "output_type": "stream",
     "text": [
      "Populating the interactive namespace from numpy and matplotlib\n"
     ]
    }
   ],
   "source": [
    "%pylab inline"
   ]
  },
  {
   "cell_type": "code",
   "execution_count": 3,
   "metadata": {
    "slideshow": {
     "slide_type": "skip"
    }
   },
   "outputs": [],
   "source": [
    "import torch\n",
    "from torch import nn, optim\n",
    "import torch.nn.functional as F\n",
    "from torchmore.layers import Fun, Fun_"
   ]
  },
  {
   "cell_type": "markdown",
   "metadata": {
    "lines_to_next_cell": 0,
    "slideshow": {
     "slide_type": "slide"
    }
   },
   "source": [
    "\n",
    "# FOUNDATIONS\n"
   ]
  },
  {
   "cell_type": "markdown",
   "metadata": {
    "lines_to_next_cell": 0,
    "slideshow": {
     "slide_type": "slide"
    }
   },
   "source": [
    "\n",
    "# Original Convolutional Networks\n",
    "\n",
    "\"Convolutional Networks for Image, Speech, and Time Series\", Yann LeCun and Yoshua Bengio, 1995\n",
    "\n",
    "- convolutional layers\n",
    "- sigmoid non-linearities\n",
    "- gradient descent training\n",
    "- scanning for multi-object localization\n"
   ]
  },
  {
   "cell_type": "markdown",
   "metadata": {
    "lines_to_next_cell": 0,
    "slideshow": {
     "slide_type": "slide"
    }
   },
   "source": [
    "\n",
    "# Architecture\n",
    "\n",
    "<img src=\"figs/lecun-arch.png\" style=\"height: 3in\" />"
   ]
  },
  {
   "cell_type": "markdown",
   "metadata": {
    "lines_to_next_cell": 0,
    "slideshow": {
     "slide_type": "slide"
    }
   },
   "source": [
    "\n",
    "# Application to Handwriting\n",
    "\n",
    "<img src=\"figs/lecun-scanning.png\" style=\"height: 3in\" />\n",
    "\n",
    "- conversion of single character classifiers to convolutional networks\n",
    "- scanning and dynamic programming for decoding"
   ]
  },
  {
   "cell_type": "markdown",
   "metadata": {
    "lines_to_next_cell": 0,
    "slideshow": {
     "slide_type": "slide"
    }
   },
   "source": [
    "\n",
    "# PyTorch Equivalent\n"
   ]
  },
  {
   "cell_type": "code",
   "execution_count": 1,
   "metadata": {
    "slideshow": {
     "slide_type": "-"
    }
   },
   "outputs": [],
   "source": [
    "from torch import nn\n",
    "from torchmore import layers, flex\n",
    "\n",
    "model = nn.Sequential(\n",
    "    layers.Input(\"BDHW\", sizes=(None, 1, 28, 28)),\n",
    "    flex.Conv2d(4, 5),\n",
    "    nn.Sigmoid(),\n",
    "    nn.AvgPool2d(2),\n",
    "    flex.Conv2d(12, 5),\n",
    "    nn.Sigmoid(),\n",
    "    nn.AvgPool2d(2),\n",
    "    layers.Reshape(0, [1, 2, 3]),\n",
    "    flex.Linear(26)\n",
    ")"
   ]
  },
  {
   "cell_type": "markdown",
   "metadata": {
    "lines_to_next_cell": 0,
    "slideshow": {
     "slide_type": "slide"
    }
   },
   "source": [
    "\n",
    "# Function Approximation View\n",
    "\n",
    "- neural networks are function approximators\n",
    "- multilayer neural networks with sigmoids are _universal approximators_\n",
    "- that is: if large enough, they can approximate any function arbitrarily well\n"
   ]
  },
  {
   "cell_type": "markdown",
   "metadata": {
    "lines_to_next_cell": 0,
    "slideshow": {
     "slide_type": "slide"
    }
   },
   "source": [
    "\n",
    "# Pattern Recognition View\n",
    "\n",
    "- given a measurement vector $x$, find a decision function $D: x \\rightarrow \\omega$\n",
    "- that decision function is the _classifier_\n",
    "- $D$ is a function mapping real vectors to discrete values; those are hard to approximate\n",
    "- instead, approximate _discriminant functions_ such that $D(x) =\\arg\\max_\\omega f(x)$\n",
    "- the larger $f_\\omega(x)$, the more $x$ \"belongs to\" class $\\omega$\n"
   ]
  },
  {
   "cell_type": "markdown",
   "metadata": {
    "lines_to_next_cell": 0,
    "slideshow": {
     "slide_type": "slide"
    }
   },
   "source": [
    "\n",
    "# Neural Networks and Classification\n",
    "\n",
    "- use deep neural networks as function approximators\n",
    "- approximate discriminant functions using the network\n",
    "- classify based on those approximations\n"
   ]
  },
  {
   "cell_type": "markdown",
   "metadata": {
    "lines_to_next_cell": 0,
    "slideshow": {
     "slide_type": "slide"
    }
   },
   "source": [
    "\n",
    "# Bayesian Decision Theory\n",
    "\n",
    "- joint densities of measurements and class labels $P(x, \\omega)$\n",
    "    - class conditional density: $P(x | \\omega)$, often $P(x | \\omega) = \\mu_\\omega + \\hbox{noise}$\n",
    "    - posterior probability: $P(\\omega | x)$\n",
    "    - Bayes rule: $P(\\omega | x) = P(x | \\omega) P(\\omega) / P(x)$\n",
    "- want to minimize the probability of prediction error\n",
    "- this is accomplished by choosing $D(x) = \\arg\\max_\\omega P(\\omega | x)$\n",
    "- this decision rule is Bayes optimal: no other rule has lower error"
   ]
  },
  {
   "cell_type": "markdown",
   "metadata": {
    "lines_to_next_cell": 0,
    "slideshow": {
     "slide_type": "slide"
    }
   },
   "source": [
    "\n",
    "# Neural Networks and Posteriors\n",
    "\n",
    "When you train a regression function against training samples with 0/1 outputs (based on class membership), you approximate the posterior probability distribution.\n",
    "\n",
    "Therefore:\n",
    "- set up a neural network as a universal approximator $y = f_\\theta(x)$\n",
    "- convert each class label to a one-hot encoding\n",
    "- perform least square approximation of $y_i^{(k)} = f_\\theta(x^{(k)})$\n",
    "  for all training samples $x^{(k)}, y^{(k)}$\n",
    "- use the estimate $\\tilde{\\theta}$ to make decisions: $\\tilde{P}(\\omega | x) = f_{\\tilde{\\theta}}(x)$\n"
   ]
  },
  {
   "cell_type": "code",
   "execution_count": 12,
   "metadata": {
    "slideshow": {
     "slide_type": "slide"
    }
   },
   "outputs": [
    {
     "data": {
      "text/plain": [
       "<matplotlib.collections.PathCollection at 0x7fce818927f0>"
      ]
     },
     "execution_count": 12,
     "metadata": {},
     "output_type": "execute_result"
    },
    {
     "data": {
      "image/png": "[encoded data removed]",
      "text/plain": [
       "<Figure size 432x288 with 1 Axes>"
      ]
     },
     "metadata": {
      "needs_background": "light"
     },
     "output_type": "display_data"
    }
   ],
   "source": [
    "# generate a simple 1D classification problem\n",
    "\n",
    "from numpy import random\n",
    "n=500\n",
    "x1 = random.normal(size=n)\n",
    "x2 = random.normal(size=n)+2\n",
    "data = array(sorted(list(zip(hstack([x1,x2]), [0]*n+[1]*n))))\n",
    "inputs = data[:,0].reshape(-1, 1)\n",
    "targets = data[:, 1].reshape(-1, 1)\n",
    "plot(inputs[:,0], targets[:,0], alpha=0.1, color=\"gray\")\n",
    "scatter(inputs[:,0], targets[:,0], marker='.', c=targets[:,0], cmap=cm.RdBu)"
   ]
  },
  {
   "cell_type": "code",
   "execution_count": 13,
   "metadata": {
    "slideshow": {
     "slide_type": "slide"
    }
   },
   "outputs": [
    {
     "data": {
      "text/plain": [
       "[<matplotlib.lines.Line2D at 0x7fce8183e400>]"
      ]
     },
     "execution_count": 13,
     "metadata": {},
     "output_type": "execute_result"
    },
    {
     "data": {
      "image/png": "[encoded data removed]",
      "text/plain": [
       "<Figure size 432x288 with 1 Axes>"
      ]
     },
     "metadata": {
      "needs_background": "light"
     },
     "output_type": "display_data"
    }
   ],
   "source": [
    "# kernel density estimate of c.c.d.'s'\n",
    "from scipy.ndimage import filters\n",
    "def density(samples, lo=-3, hi=6):\n",
    "    data = zeros(1000, \"f\")\n",
    "    coords = clip(array((samples-lo) / (hi-lo) * 1000, \"i\"), 0, 999)\n",
    "    data[coords] = 1.0\n",
    "    data = filters.gaussian_filter(data, 50.0, mode=\"constant\")\n",
    "    return data / sum(data)\n",
    "xs = linspace(-3, 6, 1000)\n",
    "plot(xs, density(x1)); plot(xs, density(x2))"
   ]
  },
  {
   "cell_type": "code",
   "execution_count": 33,
   "metadata": {
    "slideshow": {
     "slide_type": "slide"
    }
   },
   "outputs": [
    {
     "data": {
      "text/plain": [
       "[<matplotlib.lines.Line2D at 0x7fce6ed2b2b0>]"
      ]
     },
     "execution_count": 33,
     "metadata": {},
     "output_type": "execute_result"
    },
    {
     "data": {
      "image/png": "[encoded data removed]",
      "text/plain": [
       "<Figure size 432x288 with 1 Axes>"
      ]
     },
     "metadata": {
      "needs_background": "light"
     },
     "output_type": "display_data"
    }
   ],
   "source": [
    "# estimate posterior probability P(class=1|x)\n",
    "\n",
    "r = (-2, 5)\n",
    "plot(linspace(*r, 1000), density(x2, *r) / (density(x1, *r) + density(x2, *r) + 1e-6))"
   ]
  },
  {
   "cell_type": "code",
   "execution_count": 16,
   "metadata": {
    "slideshow": {
     "slide_type": "skip"
    }
   },
   "outputs": [],
   "source": [
    "inputs = torch.tensor(inputs).float()\n",
    "targets = torch.tensor(targets).float()"
   ]
  },
  {
   "cell_type": "code",
   "execution_count": 34,
   "metadata": {
    "slideshow": {
     "slide_type": "slide"
    }
   },
   "outputs": [
    {
     "data": {
      "text/plain": [
       "[<matplotlib.lines.Line2D at 0x7fce6ec90400>]"
      ]
     },
     "execution_count": 34,
     "metadata": {},
     "output_type": "execute_result"
    },
    {
     "data": {
      "image/png": "[encoded data removed]",
      "text/plain": [
       "<Figure size 432x288 with 1 Axes>"
      ]
     },
     "metadata": {
      "needs_background": "light"
     },
     "output_type": "display_data"
    }
   ],
   "source": [
    "# train a DL model\n",
    "model = nn.Sequential(flex.Linear(5), nn.Sigmoid(), flex.Linear(1), nn.Sigmoid())\n",
    "flex.shape_inference(model, inputs.shape)\n",
    "mseloss = torch.nn.MSELoss()\n",
    "optimizer = torch.optim.SGD(model.parameters(), lr=1)\n",
    "losses = []\n",
    "for i in range(1000):\n",
    "    optimizer.zero_grad()\n",
    "    outputs = model(inputs)\n",
    "    loss = mseloss(outputs, targets)\n",
    "    losses.append(float(loss))\n",
    "    loss.backward()\n",
    "    optimizer.step()\n",
    "plot(losses)"
   ]
  },
  {
   "cell_type": "code",
   "execution_count": 35,
   "metadata": {
    "slideshow": {
     "slide_type": "slide"
    }
   },
   "outputs": [
    {
     "data": {
      "text/plain": [
       "[<matplotlib.lines.Line2D at 0x7fce6ed01eb8>]"
      ]
     },
     "execution_count": 35,
     "metadata": {},
     "output_type": "execute_result"
    },
    {
     "data": {
      "image/png": "[encoded data removed]",
      "text/plain": [
       "<Figure size 432x288 with 1 Axes>"
      ]
     },
     "metadata": {
      "needs_background": "light"
     },
     "output_type": "display_data"
    }
   ],
   "source": [
    "# MLP posterior estimates vs kernel density estimates\n",
    "\n",
    "test = torch.tensor(linspace(-1, 3, 1000).reshape(-1, 1)).float()\n",
    "pred = model(test)\n",
    "plot(test[:,0].detach().numpy(), pred[:,0].detach().numpy(), linewidth=3, color=\"#4444ff\")\n",
    "r=(-1, 3)\n",
    "plot(linspace(*r, 1000), density(x2, *r) / (density(x1, *r) + density(x2, *r) + 1e-6), color=\"red\", linestyle=\"--\")"
   ]
  },
  {
   "cell_type": "markdown",
   "metadata": {
    "lines_to_next_cell": 0,
    "slideshow": {
     "slide_type": "slide"
    }
   },
   "source": [
    "\n",
    "# Model Selection and Regularization\n",
    "\n",
    "- we can choose many different kinds of models $f_\\theta$, $\\theta\\in\\mathbb{R}^d$\n",
    "  - small $d$: good predictions, but bad match to the data\n",
    "  - large $d$: bad predictions, but good match to the data\n",
    "- \"bias/variance tradeoff\", VC-dimension, empirical risk\n",
    "- general approaches to dealing with this:\n",
    "  - cross validation, early stopping\n",
    "  - regularization by imposing costs on $\\theta$\n",
    "  - model selection\n",
    "- traditional view: \"neural networks have too many parameters to generalize well\"\n"
   ]
  },
  {
   "cell_type": "markdown",
   "metadata": {
    "lines_to_next_cell": 0,
    "slideshow": {
     "slide_type": "slide"
    }
   },
   "source": [
    "\n",
    "# Linear Layers\n",
    "\n",
    "Deep neural networks are compositions of linear layers:\n",
    "\n",
    "$y = M\\cdot x + b$ -- pure linear regression\n",
    "\n",
    "$y = \\sigma(M\\cdot x+b)$ -- logistic regression\n",
    "\n",
    "$y = \\left\\lfloor M \\cdot x + b > 0 \\right\\rfloor$ -- linear decision boundaries\n",
    "\n",
    "$y = \\max(0, M \\cdot x + b)$ -- ReLU layer"
   ]
  },
  {
   "cell_type": "markdown",
   "metadata": {
    "lines_to_next_cell": 0,
    "slideshow": {
     "slide_type": "slide"
    }
   },
   "source": [
    "\n",
    "# Theory of Linear Classifiers\n",
    "\n",
    "- good for prototype+noise style classification\n",
    "- Bayes-optimal classifier for many cases\n",
    "- extend to non-linear by augmentation\n",
    "- e.g. quadratic augmentation:\n",
    "    $x \\rightarrow (1, x_1,...,x_n, x_1x_1, x_1x_2, ... x_ix_j ..., x_nx_n)$\n",
    "- quadratic classifier sufficient for all classification problems with normal c.c.d.'s\n"
   ]
  },
  {
   "cell_type": "markdown",
   "metadata": {
    "lines_to_next_cell": 0,
    "slideshow": {
     "slide_type": "slide"
    }
   },
   "source": [
    "\n",
    "# Two Linear Layers\n",
    "\n",
    "- equivalent to RBF layer or prototype-based classification\n",
    "- universal approximator\n"
   ]
  },
  {
   "cell_type": "code",
   "execution_count": 6,
   "metadata": {},
   "outputs": [],
   "source": [
    "def make_model(n0, n1, n2):\n",
    "    return nn.Sequential(\n",
    "        nn.Linear(n0, n1),\n",
    "        nn.Sigmoid(),\n",
    "        nn.Linear(n1, n2),\n",
    "        nn.Sigmoid()\n",
    "    )"
   ]
  },
  {
   "cell_type": "markdown",
   "metadata": {
    "lines_to_next_cell": 0,
    "slideshow": {
     "slide_type": "slide"
    }
   },
   "source": [
    "\n",
    "# Linear Layers without Nonlinearities\n",
    "\n",
    "    nn.Sequential(nn.Linear(n0, n1), nn.Linear(n1, n2))\n",
    "\n",
    "This is effectively the same as `nn.Sequential(nn.Linear(n0, n2))`\n",
    "\n",
    "Unless `n1<n2`, then it's a \"bottleneck\" (similar to PCA)\n"
   ]
  },
  {
   "cell_type": "markdown",
   "metadata": {
    "lines_to_next_cell": 0,
    "slideshow": {
     "slide_type": "slide"
    }
   },
   "source": [
    "\n",
    "# Scale Factors and Composition\n",
    "\n",
    "- the scale factor can usually be incorporated into the second linear layer\n",
    "- allows sigmoid to function in exponential, linear, or logarithmic regime\n",
    "- ReLU, batch norm are very different\n"
   ]
  },
  {
   "cell_type": "code",
   "execution_count": 10,
   "metadata": {},
   "outputs": [],
   "source": [
    "def make_model(n0, n1, n2, scale):\n",
    "    return nn.Sequential(\n",
    "        nn.Linear(n0, n1),\n",
    "        nn.Sigmoid(),\n",
    "        Fun_(lambda x: scale*x),\n",
    "        nn.Linear(n1, n2))"
   ]
  },
  {
   "cell_type": "markdown",
   "metadata": {
    "lines_to_next_cell": 0,
    "slideshow": {
     "slide_type": "slide"
    }
   },
   "source": [
    "\n",
    "# Linear Layer vs RBF\n",
    "\n",
    "Linear input layer vs prototype distance:\n",
    "\n",
    "$$y = m \\cdot x + b$$\n",
    "$$y = ||x - \\mu||^2 = ||x||^2 - 2 \\mu \\cdot x + ||\\mu||^2$$\n",
    "\n",
    "Assume normalized inputs $||x||=1$,\n",
    "\n",
    "$$y = -2 \\mu \\cdot x + ||\\mu||^2 + 1 = m \\cdot x + b$$\n",
    "\n",
    "with: $m = -2 \\mu$ and $b = ||\\mu||^2 + 1$\n",
    "\n",
    "Therefore: linear layers function like RBF, assuming normalized inputs.\n"
   ]
  },
  {
   "cell_type": "markdown",
   "metadata": {
    "lines_to_next_cell": 0,
    "slideshow": {
     "slide_type": "slide"
    }
   },
   "source": [
    "\n",
    "# Linear Layer vs RBF, VQ\n",
    "\n",
    "- A linear layer taking (approximately) normalized inputs effectively computes the distance of each input from a prototype and then outputs the distance as its activation.\n",
    "- When such an output is passed through a sigmoid, it can approximate Gaussian RBFs or other RBF kernels.\n",
    "- When used with an exponential nonlinearity or softmax, this can make a layer operate like a vector quantizer.\n"
   ]
  },
  {
   "cell_type": "markdown",
   "metadata": {
    "lines_to_next_cell": 0,
    "slideshow": {
     "slide_type": "slide"
    }
   },
   "source": [
    "\n",
    "# Linear Layers vs PCA/ICA\n",
    "\n",
    "    nn.Linear(n1, n2)\n",
    "\n",
    "If $n_2 < n_1$, this may be performing PCA (principal component analysis) or ICA (independent component analysis\n",
    "\n",
    "PCA is related to the autoencoder:\n",
    "\n",
    "    nn.Sequential(nn.Linear(n1, n2), nn.Linear(n2, n1))\n",
    "\n",
    "PCA attempts to remove noise components while maintaining relevant components.\n"
   ]
  },
  {
   "cell_type": "markdown",
   "metadata": {
    "lines_to_next_cell": 0,
    "slideshow": {
     "slide_type": "slide"
    }
   },
   "source": [
    "\n",
    "# Summary of Linear Layers\n",
    "\n",
    "Linear layers in \"classical\" neural networks can compute:\n",
    "\n",
    "- PCA\n",
    "- ICA\n",
    "- RBF\n",
    "- VQ\n",
    "\n",
    "Which they compute depends on the loss/objective functions, input normalization, training data, and dimensionalities involved.\n",
    "\n",
    "NB: ReLUs change this."
   ]
  },
  {
   "cell_type": "markdown",
   "metadata": {
    "lines_to_next_cell": 0,
    "slideshow": {
     "slide_type": "slide"
    }
   },
   "source": [
    "\n",
    "# Convolutional Layers\n",
    "\n",
    "    nn.Conv2d(ninputs, noutputs, window_size)\n",
    "\n",
    "Convolutional layers are:\n",
    "- linear layers\n",
    "- taking a small window as input\n",
    "- sliding over the input image\n"
   ]
  },
  {
   "cell_type": "markdown",
   "metadata": {
    "lines_to_next_cell": 0,
    "slideshow": {
     "slide_type": "slide"
    }
   },
   "source": [
    "\n",
    "# \"Network in Network\"\n",
    "\n",
    "- Paper that claimed substantial improvements in performance by replacing convolutions with a multi-layer network.\n",
    "- In practice, scanning a multilayer network is equivalent to an $n\\times n$ convolution followed by $1 \\times 1$ convolutions.\n",
    "\n",
    "        nn.Sequential(\n",
    "            flex.Conv2d(64, (11, 11)),\n",
    "            nn.Sigmoid(),\n",
    "            flex.Conv2d(128, (1, 1)),\n",
    "            nn.Sigmoid()\n",
    "        )\n"
   ]
  },
  {
   "cell_type": "markdown",
   "metadata": {
    "lines_to_next_cell": 0,
    "slideshow": {
     "slide_type": "slide"
    }
   },
   "source": [
    "\n",
    "# Convolutions as Matched Filters\n",
    "\n",
    "- recall above that linear layers compute \"distance from prototype\"\n",
    "- for convolutional layers, this means \"distance from prototype\" over sliding window\n",
    "  - given a target pattern\n",
    "  - slide the target pattern over the entire window\n",
    "  - compute how well the target pattern matches at each location\n",
    "  - put the score for that match into the corresponding output channel\n",
    "- this is called a \"matched filter\" in signal processing\n"
   ]
  },
  {
   "cell_type": "markdown",
   "metadata": {
    "lines_to_next_cell": 0,
    "slideshow": {
     "slide_type": "slide"
    }
   },
   "source": [
    "\n",
    "# Convolutions for Image Processing\n",
    "\n",
    "- image processing = image to image transformations\n",
    "- rich theory of linear and non-linear image processing\n",
    "- image processing usually seeks to:\n",
    "  - remove noise\n",
    "  - correct color\n",
    "  - enhance features of interest\n"
   ]
  },
  {
   "cell_type": "markdown",
   "metadata": {
    "lines_to_next_cell": 0,
    "slideshow": {
     "slide_type": "slide"
    }
   },
   "source": [
    "\n",
    "# Convolutions for Image Processing\n",
    "\n",
    "- theory of linear, shift-invariant filters\n",
    "- closely tied to frequency domain/Fourier analysis\n",
    "- closely tied to MSE/L2 error models, least square matching\n",
    "- linear analysis applies to sigmoids in linear domain\n",
    "- directly carries over:\n",
    "  - separability (used in Inception)\n",
    "  - Fourier transform layers (available in PyTorch)\n"
   ]
  },
  {
   "cell_type": "markdown",
   "metadata": {
    "lines_to_next_cell": 0,
    "slideshow": {
     "slide_type": "slide"
    }
   },
   "source": [
    "\n",
    "# Average Pooling and Sampling\n",
    "\n",
    "- average pooling is:\n",
    "  - filter (pillbox filter) combined with\n",
    "  - subsampling\n",
    "- rich theory:\n",
    "  - sampling theorem\n",
    "  - aliasing theorems\n"
   ]
  },
  {
   "cell_type": "markdown",
   "metadata": {
    "lines_to_next_cell": 0,
    "slideshow": {
     "slide_type": "slide"
    }
   },
   "source": [
    "\n",
    "# Feature Hierarchies\n",
    "\n",
    "<img src=\"figs/lecun-arch.png\" style=\"height: 4in\" />\n",
    "\n",
    "\n"
   ]
  },
  {
   "cell_type": "markdown",
   "metadata": {
    "slideshow": {
     "slide_type": "slide"
    }
   },
   "source": [
    "# Feature Hierarchies\n",
    "\n",
    "- LeCun: \"this creates a feature hierarchy\"\n",
    "- feature hierarchies motivated by neuroscience\n",
    "- theoretical results\n",
    "    - needed for certain geometric computations (book: \"Perceptron\")\n",
    "    - somewhat similar to wavelets, multi-resolution pyramids in vision\n",
    "    - arguably can perform some kind of deformable matching"
   ]
  },
  {
   "cell_type": "markdown",
   "metadata": {
    "lines_to_next_cell": 0,
    "slideshow": {
     "slide_type": "slide"
    }
   },
   "source": [
    "\n",
    "<img src=\"figs/brain-areas.png\" style=\"height: 5in\" />"
   ]
  },
  {
   "cell_type": "markdown",
   "metadata": {
    "slideshow": {
     "slide_type": "slide"
    }
   },
   "source": [
    "\n",
    "# Feature Hierarchies\n",
    "\n",
    "- convolutional layers stacked on top of each other\n",
    "- intended to recognize more and more complex visual concepts:\n",
    "  - simple local intensity changes\n",
    "  - extended edges\n",
    "  - corners\n",
    "  - groupings of corners\n",
    "  - entire objects\n",
    "- little theoretical foundation\n"
   ]
  },
  {
   "cell_type": "markdown",
   "metadata": {
    "slideshow": {
     "slide_type": "slide"
    }
   },
   "source": [
    "# Summary\n",
    "\n",
    "So far:\n",
    "\n",
    "- 1960's perceptrons\n",
    "- 1980's backpropagation\n",
    "- 1990's convolutional networks\n",
    "- also: Bayesian, SVMs, boosting, ERM/VC\n",
    "\n",
    "Next:\n",
    "\n",
    "- 2000's recurrent networks\n",
    "- 2010's GPUs and ReLUs"
   ]
  }
 ],
 "metadata": {
  "celltoolbar": "Slideshow",
  "jupytext": {
   "formats": "ipynb"
  },
  "kernelspec": {
   "display_name": "Python 3",
   "language": "python",
   "name": "python3"
  },
  "language_info": {
   "codemirror_mode": {
    "name": "ipython",
    "version": 3
   },
   "file_extension": ".py",
   "mimetype": "text/x-python",
   "name": "python",
   "nbconvert_exporter": "python",
   "pygments_lexer": "ipython3",
   "version": "3.7.3"
  }
 },
 "nbformat": 4,
 "nbformat_minor": 2
}
